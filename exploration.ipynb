{
    "cells": [
        {
            "cell_type": "code",
            "execution_count": 14,
            "source": [
                "import numpy as np \r\n",
                "import pandas as pd \r\n",
                "import altair as alt \r\n",
                "import os \r\n",
                "import re \r\n",
                "import ntpath\r\n",
                "from Commons.data_processing import *\r\n",
                "from Commons.DataProcessors.pd_processor import PDProcessor\r\n"
            ],
            "outputs": [],
            "metadata": {}
        },
        {
            "cell_type": "code",
            "execution_count": 15,
            "source": [
                "files = get_files(r\"E:\\Research\\Proteome Discoverer\\20210825_StdProt_Glyco\")"
            ],
            "outputs": [],
            "metadata": {}
        },
        {
            "cell_type": "code",
            "execution_count": 16,
            "source": [
                "read_data = None\r\n",
                "\r\n",
                "for file in file\n",
                ":\r\n",
                "    base_name, _ = ntpath.splitext(ntpath.basename(file))\r\n",
                "    div = base_name.split(\"-\")[0]\r\n",
                "    div = div.split(\"_\")\r\n",
                "    conc, temp, run = div[-3:]\r\n",
                "\r\n",
                "    data = PDProcessor([file], sample_name=\"_\".join(div[-3:]))\r\n",
                "    data.add_special_column(\"concentration\", conc)\r\n",
                "    data.add_special_column(\"temperature\", temp)\r\n",
                "    data.add_special_column(\"run\", run)\r\n",
                "\r\n",
                "    if read_data is None:\r\n",
                "        read_data = data\r\n",
                "    else:\r\n",
                "        read_data.join_processors(data)\r\n",
                "\r\n",
                "\r\n",
                "read_data.alias_engine(\"\")\r\n"
            ],
            "outputs": [],
            "metadata": {}
        },
        {
            "cell_type": "code",
            "execution_count": 45,
            "source": [
                "peptides = read_data.peptides[~read_data.peptides.glycan_composition.isna()]"
            ],
            "outputs": [],
            "metadata": {}
        },
        {
            "cell_type": "code",
            "execution_count": 47,
            "source": [
                "conc_map = {\"1\": 1.0, \"05\": 0.5, \"025\": 0.25, \"0125\": 0.125, \"00625\": 0.0625}\r\n",
                "peptides.loc[:, 'concentration'] = = peptideconcentrationon.map(conc_ma)\r\n"
            ],
            "outputs": [
                {
                    "output_type": "stream",
                    "name": "stderr",
                    "text": [
                        "C:\\Users\\graha\\AppData\\Roaming\\Python\\Python38\\site-packages\\pandas\\core\\indexing.py:671: SettingWithCopyWarning: \nA value is trying to be set on a copy of a slice from a DataFrame\n\nSee the caveats in the documentation: https://pandas.pydata.org/pandas-docs/stable/user_guide/indexing.html#returning-a-view-versus-a-copy\n  self._setitem_with_indexer(indexer, value)\n<ipython-input-47-4c732c172c49>:3: SettingWithCopyWarning: \nA value is trying to be set on a copy of a slice from a DataFrame\n\nSee the caveats in the documentation: https://pandas.pydata.org/pandas-docs/stable/user_guide/indexing.html#returning-a-view-versus-a-copy\n  peptides.loc[:, 'concentration'] = peptides.concentration.map(conc_map)\n"
                    ]
                }
            ],
            "metadata": {}
        },
        {
            "cell_type": "code",
            "execution_count": 48,
            "metadata": {},
            "outputs": [
                {
                    "output_type": "execute_result",
                    "data": {
                        "text/plain": [
                            "    accession                                        description checked  \\\n",
                            "2      P61823  Ribonuclease pancreatic OS=Bos taurus OX=9913 ...    True   \n",
                            "3      P61823  Ribonuclease pancreatic OS=Bos taurus OX=9913 ...    True   \n",
                            "4      P61823  Ribonuclease pancreatic OS=Bos taurus OX=9913 ...    True   \n",
                            "5      P61823  Ribonuclease pancreatic OS=Bos taurus OX=9913 ...    True   \n",
                            "6      P61823  Ribonuclease pancreatic OS=Bos taurus OX=9913 ...    True   \n",
                            "..        ...                                                ...     ...   \n",
                            "445    P61823  Ribonuclease pancreatic OS=Bos taurus OX=9913 ...    True   \n",
                            "446    P61823  Ribonuclease pancreatic OS=Bos taurus OX=9913 ...    True   \n",
                            "447    P61823  Ribonuclease pancreatic OS=Bos taurus OX=9913 ...    True   \n",
                            "448    P61823  Ribonuclease pancreatic OS=Bos taurus OX=9913 ...    True   \n",
                            "449    P61823  Ribonuclease pancreatic OS=Bos taurus OX=9913 ...    True   \n",
                            "\n",
                            "    confidence annotated_sequence  \\\n",
                            "2       Medium       [R].NLTK.[D]   \n",
                            "3         High       [R].NLTK.[D]   \n",
                            "4         High       [R].NLTK.[D]   \n",
                            "5         High       [R].NLTK.[D]   \n",
                            "6         High       [R].NLTK.[D]   \n",
                            "..         ...                ...   \n",
                            "445     Medium   [K].SRNLTKDR.[C]   \n",
                            "446       High   [K].SRNLTKDR.[C]   \n",
                            "447     Medium   [K].SRNLTKDR.[C]   \n",
                            "448       High   [K].SRNLTKDR.[C]   \n",
                            "449     Medium   [K].SRNLTKDR.[C]   \n",
                            "\n",
                            "                                         modifications num_protein_groups  \\\n",
                            "2                                     1xHexNAc(2) [N1]                  1   \n",
                            "3                               1xHexNAc(2)Hex(1) [N1]                  1   \n",
                            "4                               1xHexNAc(2)Hex(2) [N1]                  1   \n",
                            "5                               1xHexNAc(2)Hex(3) [N1]                  1   \n",
                            "6                               1xHexNAc(2)Hex(4) [N1]                  1   \n",
                            "..                                                 ...                ...   \n",
                            "445               1xHexNAc(6)Hex(3)Fuc(1)NeuAc(2) [N3]                  1   \n",
                            "446                     1xHexNAc(6)Hex(4)NeuAc(2) [N3]                  1   \n",
                            "447  1xAcetyl [N-Term]; 1xHexNAc(6)Hex(3)Fuc(1)NeuA...                  1   \n",
                            "448  1xAcetyl [N-Term]; 1xHexNAc(4)Hex(5)NeuAc(3) [N3]                  1   \n",
                            "449  1xAcetyl [N-Term]; 1xHexNAc(4)Hex(5)NeuAc(2)Ne...                  1   \n",
                            "\n",
                            "    num_proteins num_psms master_protein_accessions  ...   q_value_1d  \\\n",
                            "2              1        1                    P61823  ...    0.0373692   \n",
                            "3              1        4                    P61823  ...   1.4599e-05   \n",
                            "4              1        4                    P61823  ...   2.3116e-05   \n",
                            "5              1        5                    P61823  ...  3.62703e-05   \n",
                            "6              1        7                    P61823  ...  1.93477e-05   \n",
                            "..           ...      ...                       ...  ...          ...   \n",
                            "445            1        1                    P61823  ...     0.034626   \n",
                            "446            1        1                    P61823  ...   0.00378429   \n",
                            "447            1        1                    P61823  ...    0.0355921   \n",
                            "448            1        1                    P61823  ...  0.000751193   \n",
                            "449            1        1                    P61823  ...    0.0190197   \n",
                            "\n",
                            "         fdr_1d peptide_group_fdr_1d sequence_in_protein  \\\n",
                            "2      0.037196             0.115151            R.NLTK.D   \n",
                            "3             0                    0            R.NLTK.D   \n",
                            "4             0                    0            R.NLTK.D   \n",
                            "5             0                    0            R.NLTK.D   \n",
                            "6             0                    0            R.NLTK.D   \n",
                            "..          ...                  ...                 ...   \n",
                            "445   0.0345781             0.106109        K.SRNLTKDR.C   \n",
                            "446  0.00367309            0.0195122        K.SRNLTKDR.C   \n",
                            "447   0.0352065             0.107362        K.SRNLTKDR.C   \n",
                            "448           0                    0        K.SRNLTKDR.C   \n",
                            "449    0.018992            0.0648464        K.SRNLTKDR.C   \n",
                            "\n",
                            "    positions_in_proteins  sequence     data_source concentration temperature  \\\n",
                            "2                 [60-63]      NLTK  00625_30C_Run1        0.0625         30C   \n",
                            "3                 [60-63]      NLTK  00625_30C_Run1        0.0625         30C   \n",
                            "4                 [60-63]      NLTK  00625_30C_Run1        0.0625         30C   \n",
                            "5                 [60-63]      NLTK  00625_30C_Run1        0.0625         30C   \n",
                            "6                 [60-63]      NLTK  00625_30C_Run1        0.0625         30C   \n",
                            "..                    ...       ...             ...           ...         ...   \n",
                            "445               [58-65]  SRNLTKDR      1_60C_Run3             1         60C   \n",
                            "446               [58-65]  SRNLTKDR      1_60C_Run3             1         60C   \n",
                            "447               [58-65]  SRNLTKDR      1_60C_Run3             1         60C   \n",
                            "448               [58-65]  SRNLTKDR      1_60C_Run3             1         60C   \n",
                            "449               [58-65]  SRNLTKDR      1_60C_Run3             1         60C   \n",
                            "\n",
                            "      run  \n",
                            "2    Run1  \n",
                            "3    Run1  \n",
                            "4    Run1  \n",
                            "5    Run1  \n",
                            "6    Run1  \n",
                            "..    ...  \n",
                            "445  Run3  \n",
                            "446  Run3  \n",
                            "447  Run3  \n",
                            "448  Run3  \n",
                            "449  Run3  \n",
                            "\n",
                            "[11548 rows x 37 columns]"
                        ],
                        "text/html": "<div>\n<style scoped>\n    .dataframe tbody tr th:only-of-type {\n        vertical-align: middle;\n    }\n\n    .dataframe tbody tr th {\n        vertical-align: top;\n    }\n\n    .dataframe thead th {\n        text-align: right;\n    }\n</style>\n<table border=\"1\" class=\"dataframe\">\n  <thead>\n    <tr style=\"text-align: right;\">\n      <th></th>\n      <th>accession</th>\n      <th>description</th>\n      <th>checked</th>\n      <th>confidence</th>\n      <th>annotated_sequence</th>\n      <th>modifications</th>\n      <th>num_protein_groups</th>\n      <th>num_proteins</th>\n      <th>num_psms</th>\n      <th>master_protein_accessions</th>\n      <th>...</th>\n      <th>q_value_1d</th>\n      <th>fdr_1d</th>\n      <th>peptide_group_fdr_1d</th>\n      <th>sequence_in_protein</th>\n      <th>positions_in_proteins</th>\n      <th>sequence</th>\n      <th>data_source</th>\n      <th>concentration</th>\n      <th>temperature</th>\n      <th>run</th>\n    </tr>\n  </thead>\n  <tbody>\n    <tr>\n      <th>2</th>\n      <td>P61823</td>\n      <td>Ribonuclease pancreatic OS=Bos taurus OX=9913 ...</td>\n      <td>True</td>\n      <td>Medium</td>\n      <td>[R].NLTK.[D]</td>\n      <td>1xHexNAc(2) [N1]</td>\n      <td>1</td>\n      <td>1</td>\n      <td>1</td>\n      <td>P61823</td>\n      <td>...</td>\n      <td>0.0373692</td>\n      <td>0.037196</td>\n      <td>0.115151</td>\n      <td>R.NLTK.D</td>\n      <td>[60-63]</td>\n      <td>NLTK</td>\n      <td>00625_30C_Run1</td>\n      <td>0.0625</td>\n      <td>30C</td>\n      <td>Run1</td>\n    </tr>\n    <tr>\n      <th>3</th>\n      <td>P61823</td>\n      <td>Ribonuclease pancreatic OS=Bos taurus OX=9913 ...</td>\n      <td>True</td>\n      <td>High</td>\n      <td>[R].NLTK.[D]</td>\n      <td>1xHexNAc(2)Hex(1) [N1]</td>\n      <td>1</td>\n      <td>1</td>\n      <td>4</td>\n      <td>P61823</td>\n      <td>...</td>\n      <td>1.4599e-05</td>\n      <td>0</td>\n      <td>0</td>\n      <td>R.NLTK.D</td>\n      <td>[60-63]</td>\n      <td>NLTK</td>\n      <td>00625_30C_Run1</td>\n      <td>0.0625</td>\n      <td>30C</td>\n      <td>Run1</td>\n    </tr>\n    <tr>\n      <th>4</th>\n      <td>P61823</td>\n      <td>Ribonuclease pancreatic OS=Bos taurus OX=9913 ...</td>\n      <td>True</td>\n      <td>High</td>\n      <td>[R].NLTK.[D]</td>\n      <td>1xHexNAc(2)Hex(2) [N1]</td>\n      <td>1</td>\n      <td>1</td>\n      <td>4</td>\n      <td>P61823</td>\n      <td>...</td>\n      <td>2.3116e-05</td>\n      <td>0</td>\n      <td>0</td>\n      <td>R.NLTK.D</td>\n      <td>[60-63]</td>\n      <td>NLTK</td>\n      <td>00625_30C_Run1</td>\n      <td>0.0625</td>\n      <td>30C</td>\n      <td>Run1</td>\n    </tr>\n    <tr>\n      <th>5</th>\n      <td>P61823</td>\n      <td>Ribonuclease pancreatic OS=Bos taurus OX=9913 ...</td>\n      <td>True</td>\n      <td>High</td>\n      <td>[R].NLTK.[D]</td>\n      <td>1xHexNAc(2)Hex(3) [N1]</td>\n      <td>1</td>\n      <td>1</td>\n      <td>5</td>\n      <td>P61823</td>\n      <td>...</td>\n      <td>3.62703e-05</td>\n      <td>0</td>\n      <td>0</td>\n      <td>R.NLTK.D</td>\n      <td>[60-63]</td>\n      <td>NLTK</td>\n      <td>00625_30C_Run1</td>\n      <td>0.0625</td>\n      <td>30C</td>\n      <td>Run1</td>\n    </tr>\n    <tr>\n      <th>6</th>\n      <td>P61823</td>\n      <td>Ribonuclease pancreatic OS=Bos taurus OX=9913 ...</td>\n      <td>True</td>\n      <td>High</td>\n      <td>[R].NLTK.[D]</td>\n      <td>1xHexNAc(2)Hex(4) [N1]</td>\n      <td>1</td>\n      <td>1</td>\n      <td>7</td>\n      <td>P61823</td>\n      <td>...</td>\n      <td>1.93477e-05</td>\n      <td>0</td>\n      <td>0</td>\n      <td>R.NLTK.D</td>\n      <td>[60-63]</td>\n      <td>NLTK</td>\n      <td>00625_30C_Run1</td>\n      <td>0.0625</td>\n      <td>30C</td>\n      <td>Run1</td>\n    </tr>\n    <tr>\n      <th>...</th>\n      <td>...</td>\n      <td>...</td>\n      <td>...</td>\n      <td>...</td>\n      <td>...</td>\n      <td>...</td>\n      <td>...</td>\n      <td>...</td>\n      <td>...</td>\n      <td>...</td>\n      <td>...</td>\n      <td>...</td>\n      <td>...</td>\n      <td>...</td>\n      <td>...</td>\n      <td>...</td>\n      <td>...</td>\n      <td>...</td>\n      <td>...</td>\n      <td>...</td>\n      <td>...</td>\n    </tr>\n    <tr>\n      <th>445</th>\n      <td>P61823</td>\n      <td>Ribonuclease pancreatic OS=Bos taurus OX=9913 ...</td>\n      <td>True</td>\n      <td>Medium</td>\n      <td>[K].SRNLTKDR.[C]</td>\n      <td>1xHexNAc(6)Hex(3)Fuc(1)NeuAc(2) [N3]</td>\n      <td>1</td>\n      <td>1</td>\n      <td>1</td>\n      <td>P61823</td>\n      <td>...</td>\n      <td>0.034626</td>\n      <td>0.0345781</td>\n      <td>0.106109</td>\n      <td>K.SRNLTKDR.C</td>\n      <td>[58-65]</td>\n      <td>SRNLTKDR</td>\n      <td>1_60C_Run3</td>\n      <td>1</td>\n      <td>60C</td>\n      <td>Run3</td>\n    </tr>\n    <tr>\n      <th>446</th>\n      <td>P61823</td>\n      <td>Ribonuclease pancreatic OS=Bos taurus OX=9913 ...</td>\n      <td>True</td>\n      <td>High</td>\n      <td>[K].SRNLTKDR.[C]</td>\n      <td>1xHexNAc(6)Hex(4)NeuAc(2) [N3]</td>\n      <td>1</td>\n      <td>1</td>\n      <td>1</td>\n      <td>P61823</td>\n      <td>...</td>\n      <td>0.00378429</td>\n      <td>0.00367309</td>\n      <td>0.0195122</td>\n      <td>K.SRNLTKDR.C</td>\n      <td>[58-65]</td>\n      <td>SRNLTKDR</td>\n      <td>1_60C_Run3</td>\n      <td>1</td>\n      <td>60C</td>\n      <td>Run3</td>\n    </tr>\n    <tr>\n      <th>447</th>\n      <td>P61823</td>\n      <td>Ribonuclease pancreatic OS=Bos taurus OX=9913 ...</td>\n      <td>True</td>\n      <td>Medium</td>\n      <td>[K].SRNLTKDR.[C]</td>\n      <td>1xAcetyl [N-Term]; 1xHexNAc(6)Hex(3)Fuc(1)NeuA...</td>\n      <td>1</td>\n      <td>1</td>\n      <td>1</td>\n      <td>P61823</td>\n      <td>...</td>\n      <td>0.0355921</td>\n      <td>0.0352065</td>\n      <td>0.107362</td>\n      <td>K.SRNLTKDR.C</td>\n      <td>[58-65]</td>\n      <td>SRNLTKDR</td>\n      <td>1_60C_Run3</td>\n      <td>1</td>\n      <td>60C</td>\n      <td>Run3</td>\n    </tr>\n    <tr>\n      <th>448</th>\n      <td>P61823</td>\n      <td>Ribonuclease pancreatic OS=Bos taurus OX=9913 ...</td>\n      <td>True</td>\n      <td>High</td>\n      <td>[K].SRNLTKDR.[C]</td>\n      <td>1xAcetyl [N-Term]; 1xHexNAc(4)Hex(5)NeuAc(3) [N3]</td>\n      <td>1</td>\n      <td>1</td>\n      <td>1</td>\n      <td>P61823</td>\n      <td>...</td>\n      <td>0.000751193</td>\n      <td>0</td>\n      <td>0</td>\n      <td>K.SRNLTKDR.C</td>\n      <td>[58-65]</td>\n      <td>SRNLTKDR</td>\n      <td>1_60C_Run3</td>\n      <td>1</td>\n      <td>60C</td>\n      <td>Run3</td>\n    </tr>\n    <tr>\n      <th>449</th>\n      <td>P61823</td>\n      <td>Ribonuclease pancreatic OS=Bos taurus OX=9913 ...</td>\n      <td>True</td>\n      <td>Medium</td>\n      <td>[K].SRNLTKDR.[C]</td>\n      <td>1xAcetyl [N-Term]; 1xHexNAc(4)Hex(5)NeuAc(2)Ne...</td>\n      <td>1</td>\n      <td>1</td>\n      <td>1</td>\n      <td>P61823</td>\n      <td>...</td>\n      <td>0.0190197</td>\n      <td>0.018992</td>\n      <td>0.0648464</td>\n      <td>K.SRNLTKDR.C</td>\n      <td>[58-65]</td>\n      <td>SRNLTKDR</td>\n      <td>1_60C_Run3</td>\n      <td>1</td>\n      <td>60C</td>\n      <td>Run3</td>\n    </tr>\n  </tbody>\n</table>\n<p>11548 rows × 37 columns</p>\n</div>"
                    },
                    "metadata": {},
                    "execution_count": 48
                }
            ],
            "source": [
                "peptides"
            ]
        },
        {
            "cell_type": "code",
            "execution_count": 49,
            "source": [
                "cutoffs = [50, 100, 150, 200, 250, 300, 350, 400, 500]\r\n",
                "nums = []\r\n",
                "for cut in cutoffs:\r\n",
                "    nums.append(len(peptides[peptides.byonic_score >= cut]))\r\n",
                "\r\n",
                "res = pd.DataFrame({\"cutoffs\": cutoffs, \"vals\": nums})\r\n",
                "\r\n",
                "alt.Chart(res).mark_bar().encode(x=\"cutoffs:N\", y=\"vals:Q\")\r\n"
            ],
            "outputs": [
                {
                    "output_type": "execute_result",
                    "data": {
                        "text/html": "\n<div id=\"altair-viz-238e95b742534f3caa2864c6da3dc4d2\"></div>\n<script type=\"text/javascript\">\n  (function(spec, embedOpt){\n    let outputDiv = document.currentScript.previousElementSibling;\n    if (outputDiv.id !== \"altair-viz-238e95b742534f3caa2864c6da3dc4d2\") {\n      outputDiv = document.getElementById(\"altair-viz-238e95b742534f3caa2864c6da3dc4d2\");\n    }\n    const paths = {\n      \"vega\": \"https://cdn.jsdelivr.net/npm//vega@5?noext\",\n      \"vega-lib\": \"https://cdn.jsdelivr.net/npm//vega-lib?noext\",\n      \"vega-lite\": \"https://cdn.jsdelivr.net/npm//vega-lite@4.8.1?noext\",\n      \"vega-embed\": \"https://cdn.jsdelivr.net/npm//vega-embed@6?noext\",\n    };\n\n    function loadScript(lib) {\n      return new Promise(function(resolve, reject) {\n        var s = document.createElement('script');\n        s.src = paths[lib];\n        s.async = true;\n        s.onload = () => resolve(paths[lib]);\n        s.onerror = () => reject(`Error loading script: ${paths[lib]}`);\n        document.getElementsByTagName(\"head\")[0].appendChild(s);\n      });\n    }\n\n    function showError(err) {\n      outputDiv.innerHTML = `<div class=\"error\" style=\"color:red;\">${err}</div>`;\n      throw err;\n    }\n\n    function displayChart(vegaEmbed) {\n      vegaEmbed(outputDiv, spec, embedOpt)\n        .catch(err => showError(`Javascript Error: ${err.message}<br>This usually means there's a typo in your chart specification. See the javascript console for the full traceback.`));\n    }\n\n    if(typeof define === \"function\" && define.amd) {\n      requirejs.config({paths});\n      require([\"vega-embed\"], displayChart, err => showError(`Error loading script: ${err.message}`));\n    } else if (typeof vegaEmbed === \"function\") {\n      displayChart(vegaEmbed);\n    } else {\n      loadScript(\"vega\")\n        .then(() => loadScript(\"vega-lite\"))\n        .then(() => loadScript(\"vega-embed\"))\n        .catch(showError)\n        .then(() => displayChart(vegaEmbed));\n    }\n  })({\"config\": {\"view\": {\"continuousWidth\": 400, \"continuousHeight\": 300}}, \"data\": {\"name\": \"data-14d03c98bed90177f120aba3cb312d36\"}, \"mark\": \"bar\", \"encoding\": {\"x\": {\"type\": \"nominal\", \"field\": \"cutoffs\"}, \"y\": {\"type\": \"quantitative\", \"field\": \"vals\"}}, \"$schema\": \"https://vega.github.io/schema/vega-lite/v4.8.1.json\", \"datasets\": {\"data-14d03c98bed90177f120aba3cb312d36\": [{\"cutoffs\": 50, \"vals\": 7526}, {\"cutoffs\": 100, \"vals\": 5622}, {\"cutoffs\": 150, \"vals\": 4583}, {\"cutoffs\": 200, \"vals\": 3672}, {\"cutoffs\": 250, \"vals\": 3038}, {\"cutoffs\": 300, \"vals\": 2476}, {\"cutoffs\": 350, \"vals\": 1923}, {\"cutoffs\": 400, \"vals\": 1319}, {\"cutoffs\": 500, \"vals\": 532}]}}, {\"mode\": \"vega-lite\"});\n</script>",
                        "text/plain": [
                            "alt.Chart(...)"
                        ]
                    },
                    "metadata": {},
                    "execution_count": 49
                }
            ],
            "metadata": {}
        },
        {
            "cell_type": "code",
            "execution_count": 50,
            "source": [
                "peptides = peptides[peptides.byonic_score >= 200]\r\n",
                "peptides['glycan'] = peptides.glycan_composition"
            ],
            "outputs": [
                {
                    "output_type": "stream",
                    "name": "stderr",
                    "text": [
                        "<ipython-input-50-7d8d328e2abe>:2: SettingWithCopyWarning: \nA value is trying to be set on a copy of a slice from a DataFrame.\nTry using .loc[row_indexer,col_indexer] = value instead\n\nSee the caveats in the documentation: https://pandas.pydata.org/pandas-docs/stable/user_guide/indexing.html#returning-a-view-versus-a-copy\n  peptides['glycan'] = peptides.glycan_composition\n"
                    ]
                }
            ],
            "metadata": {}
        },
        {
            "cell_type": "code",
            "execution_count": 51,
            "source": [
                "def categorize_glycan(glycan):\r\n",
                "\r\n",
                "    glycan = glycan.replace(\")\", \",\")\r\n",
                "    glycan = glycan.replace(\"(\", \" \")\r\n",
                "    glycan = glycan.split(\",\")[:-1]\r\n",
                "    d = {k: int(v) for [k, v] in [i.split(\" \") for i in glycan]}\r\n",
                "\r\n",
                "    if \"NeuAc\" in d or \"NeuGc\" in d:\r\n",
                "        return \"Sialylated\"\r\n",
                "    elif \"Fuc\" in d:\r\n",
                "        if d[\"HexNAc\"] > 2:\r\n",
                "            return \"Fucosylated\"\r\n",
                "        elif d[\"HexNAc\"] == 2:\r\n",
                "            if \"Hex\" in d:\r\n",
                "                if d[\"Hex\"] > 4:\r\n",
                "                    return \"Complex\"\r\n",
                "                else:\r\n",
                "                    return \"Paucimannose\"\r\n",
                "    elif d[\"HexNAc\"] > 2:\r\n",
                "        return \"Complex\"\r\n",
                "    elif d[\"HexNAc\"] <= 2:\r\n",
                "        if \"Hex\" in d:\r\n",
                "            if d[\"Hex\"] <= 9 and d[\"Hex\"] > 4:\r\n",
                "                return \"High Mannose\"\r\n",
                "\r\n",
                "        return \"Paucimannose\"\r\n",
                "\r\n",
                "\r\n",
                "peptides.loc[:, \"glycan_type\"] = peptides.glycan.map(categorize_glycan)\r\n"
            ],
            "outputs": [
                {
                    "output_type": "stream",
                    "name": "stderr",
                    "text": [
                        "C:\\Users\\graha\\AppData\\Roaming\\Python\\Python38\\site-packages\\pandas\\core\\indexing.py:845: SettingWithCopyWarning: \nA value is trying to be set on a copy of a slice from a DataFrame.\nTry using .loc[row_indexer,col_indexer] = value instead\n\nSee the caveats in the documentation: https://pandas.pydata.org/pandas-docs/stable/user_guide/indexing.html#returning-a-view-versus-a-copy\n  self.obj[key] = _infer_fill_value(value)\nC:\\Users\\graha\\AppData\\Roaming\\Python\\Python38\\site-packages\\pandas\\core\\indexing.py:966: SettingWithCopyWarning: \nA value is trying to be set on a copy of a slice from a DataFrame.\nTry using .loc[row_indexer,col_indexer] = value instead\n\nSee the caveats in the documentation: https://pandas.pydata.org/pandas-docs/stable/user_guide/indexing.html#returning-a-view-versus-a-copy\n  self.obj[item] = s\n"
                    ]
                }
            ],
            "metadata": {}
        },
        {
            "cell_type": "code",
            "execution_count": 52,
            "source": [
                "# map unique glycopeptide id\r\n",
                "\r\n",
                "peptides.loc[:, \"pep_mods\"] = peptides.apply(\r\n",
                "    lambda x: x[\"sequence\"] + \"_\" + x[\"modifications\"], axis=1\r\n",
                ")\r\n",
                "peptides.head(3)\r\n"
            ],
            "outputs": [
                {
                    "output_type": "execute_result",
                    "data": {
                        "text/plain": [
                            "  accession                                        description checked  \\\n",
                            "2    P61823  Ribonuclease pancreatic OS=Bos taurus OX=9913 ...    True   \n",
                            "3    P61823  Ribonuclease pancreatic OS=Bos taurus OX=9913 ...    True   \n",
                            "4    P61823  Ribonuclease pancreatic OS=Bos taurus OX=9913 ...    True   \n",
                            "\n",
                            "  confidence annotated_sequence           modifications num_protein_groups  \\\n",
                            "2     Medium       [R].NLTK.[D]        1xHexNAc(2) [N1]                  1   \n",
                            "3       High       [R].NLTK.[D]  1xHexNAc(2)Hex(1) [N1]                  1   \n",
                            "4       High       [R].NLTK.[D]  1xHexNAc(2)Hex(2) [N1]                  1   \n",
                            "\n",
                            "  num_proteins num_psms master_protein_accessions  ... sequence_in_protein  \\\n",
                            "2            1        1                    P61823  ...            R.NLTK.D   \n",
                            "3            1        4                    P61823  ...            R.NLTK.D   \n",
                            "4            1        4                    P61823  ...            R.NLTK.D   \n",
                            "\n",
                            "  positions_in_proteins sequence     data_source concentration temperature  \\\n",
                            "2               [60-63]     NLTK  00625_30C_Run1        0.0625         30C   \n",
                            "3               [60-63]     NLTK  00625_30C_Run1        0.0625         30C   \n",
                            "4               [60-63]     NLTK  00625_30C_Run1        0.0625         30C   \n",
                            "\n",
                            "    run           glycan   glycan_type                     pep_mods  \n",
                            "2  Run1        HexNAc(2)  Paucimannose        NLTK_1xHexNAc(2) [N1]  \n",
                            "3  Run1  HexNAc(2)Hex(1)  Paucimannose  NLTK_1xHexNAc(2)Hex(1) [N1]  \n",
                            "4  Run1  HexNAc(2)Hex(2)  Paucimannose  NLTK_1xHexNAc(2)Hex(2) [N1]  \n",
                            "\n",
                            "[3 rows x 40 columns]"
                        ],
                        "text/html": "<div>\n<style scoped>\n    .dataframe tbody tr th:only-of-type {\n        vertical-align: middle;\n    }\n\n    .dataframe tbody tr th {\n        vertical-align: top;\n    }\n\n    .dataframe thead th {\n        text-align: right;\n    }\n</style>\n<table border=\"1\" class=\"dataframe\">\n  <thead>\n    <tr style=\"text-align: right;\">\n      <th></th>\n      <th>accession</th>\n      <th>description</th>\n      <th>checked</th>\n      <th>confidence</th>\n      <th>annotated_sequence</th>\n      <th>modifications</th>\n      <th>num_protein_groups</th>\n      <th>num_proteins</th>\n      <th>num_psms</th>\n      <th>master_protein_accessions</th>\n      <th>...</th>\n      <th>sequence_in_protein</th>\n      <th>positions_in_proteins</th>\n      <th>sequence</th>\n      <th>data_source</th>\n      <th>concentration</th>\n      <th>temperature</th>\n      <th>run</th>\n      <th>glycan</th>\n      <th>glycan_type</th>\n      <th>pep_mods</th>\n    </tr>\n  </thead>\n  <tbody>\n    <tr>\n      <th>2</th>\n      <td>P61823</td>\n      <td>Ribonuclease pancreatic OS=Bos taurus OX=9913 ...</td>\n      <td>True</td>\n      <td>Medium</td>\n      <td>[R].NLTK.[D]</td>\n      <td>1xHexNAc(2) [N1]</td>\n      <td>1</td>\n      <td>1</td>\n      <td>1</td>\n      <td>P61823</td>\n      <td>...</td>\n      <td>R.NLTK.D</td>\n      <td>[60-63]</td>\n      <td>NLTK</td>\n      <td>00625_30C_Run1</td>\n      <td>0.0625</td>\n      <td>30C</td>\n      <td>Run1</td>\n      <td>HexNAc(2)</td>\n      <td>Paucimannose</td>\n      <td>NLTK_1xHexNAc(2) [N1]</td>\n    </tr>\n    <tr>\n      <th>3</th>\n      <td>P61823</td>\n      <td>Ribonuclease pancreatic OS=Bos taurus OX=9913 ...</td>\n      <td>True</td>\n      <td>High</td>\n      <td>[R].NLTK.[D]</td>\n      <td>1xHexNAc(2)Hex(1) [N1]</td>\n      <td>1</td>\n      <td>1</td>\n      <td>4</td>\n      <td>P61823</td>\n      <td>...</td>\n      <td>R.NLTK.D</td>\n      <td>[60-63]</td>\n      <td>NLTK</td>\n      <td>00625_30C_Run1</td>\n      <td>0.0625</td>\n      <td>30C</td>\n      <td>Run1</td>\n      <td>HexNAc(2)Hex(1)</td>\n      <td>Paucimannose</td>\n      <td>NLTK_1xHexNAc(2)Hex(1) [N1]</td>\n    </tr>\n    <tr>\n      <th>4</th>\n      <td>P61823</td>\n      <td>Ribonuclease pancreatic OS=Bos taurus OX=9913 ...</td>\n      <td>True</td>\n      <td>High</td>\n      <td>[R].NLTK.[D]</td>\n      <td>1xHexNAc(2)Hex(2) [N1]</td>\n      <td>1</td>\n      <td>1</td>\n      <td>4</td>\n      <td>P61823</td>\n      <td>...</td>\n      <td>R.NLTK.D</td>\n      <td>[60-63]</td>\n      <td>NLTK</td>\n      <td>00625_30C_Run1</td>\n      <td>0.0625</td>\n      <td>30C</td>\n      <td>Run1</td>\n      <td>HexNAc(2)Hex(2)</td>\n      <td>Paucimannose</td>\n      <td>NLTK_1xHexNAc(2)Hex(2) [N1]</td>\n    </tr>\n  </tbody>\n</table>\n<p>3 rows × 40 columns</p>\n</div>"
                    },
                    "metadata": {},
                    "execution_count": 52
                }
            ],
            "metadata": {}
        },
        {
            "cell_type": "code",
            "execution_count": 53,
            "source": [
                "peptides = peptides.reset_index()"
            ],
            "outputs": [],
            "metadata": {}
        },
        {
            "cell_type": "markdown",
            "source": [
                "# What are we even doing?\r\n",
                "\r\n",
                "`Intact Glycopeptide Analysis at Elevated Temperatures Reveals limitations and Considerations in Label Free Quantitation`\r\n",
                "\r\n",
                "1. We know that different temperatures enable different levels of performance in glycopeptide identificatioS\r\n",
                "- show the difference between temperatures (num glycopeptideP)\r\n",
                "- pinopint what is responsible. Increased peak area? Peak inte Is the separation of isomers somehow causing identification errors?nsity?\r\n",
                "\r\n",
                "2. Is this a global occurrence or are various glycan types affected differently?\r\n",
                "- For each temperature and glycan types, show the relative identification rates\r\n",
                "- Using the pinpointed cause of different performance from aim1, show positive and negative examples for glycan types.\r\n",
                "\r\n",
                "3. How does this effect quantitation?\r\n",
                "- Is LFQ even remotely possible when temperature is varied?\r\n",
                "- Is the ability to do LFQ rescued when analyzing at one temperature?\r\n",
                "- Can we achieve greater LOQ when running at the optimal temperature?\r\n",
                "- Are there any glycan types that show no ability to do LFQ?\r\n",
                "- Is there a method of LFQ that is more useful than the other?"
            ],
            "metadata": {}
        },
        {
            "cell_type": "markdown",
            "source": [
                "## 1a\r\n",
                "\r\n",
                "Taking the max concentration, what is the difference between temperature?"
            ],
            "metadata": {}
        },
        {
            "cell_type": "code",
            "execution_count": 192,
            "metadata": {},
            "outputs": [],
            "source": [
                "# information to extract: num peptides, num unique glycans, num unique peptide backbones\n",
                "temps, vals, kind, concent = [], [], [], []\n",
                "\n",
                "for conc in peptides.concentration.unique():\n",
                "    head = peptides[peptides.concentration == conc]\n",
                "\n",
                "    for temp in head.temperature.unique():\n",
                "        body = head[head.temperature==temp]\n",
                "\n",
                "        for run in body.run.unique():\n",
                "            tail = body[body.run == run]\n",
                "\n",
                "            unique_gly = len(tail.pep_mods.unique())\n",
                "            concent.append(conc)\n",
                "            vals.append(unique_gly)\n",
                "            temps.append(temp)\n",
                "            kind.append(\"Unique Glycopeptides\")\n",
                "\n",
                "            unique_seq = len(tail.sequence.unique())\n",
                "            concent.append(conc)\n",
                "            vals.append(unique_seq)\n",
                "            temps.append(temp)\n",
                "            kind.append(\"Unique Backbones\")\n",
                "\n",
                "            unique_glycans = len(tail.glycan.unique())\n",
                "            concent.append(conc)\n",
                "            vals.append(unique_glycans)\n",
                "            temps.append(temp)\n",
                "            kind.append(\"Unique Glycans\")\n",
                "\n",
                "res = pd.DataFrame({\"Temperature\": temps, \"Kind\": kind, \"Values\": vals, \"Concentration\": concent})\n",
                "\n",
                "my_colors = alt.Color(\n",
                "    \"Temperature:N\",\n",
                "    scale=alt.Scale(\n",
                "        domain=[\"30C\", \"45C\", \"60C\"], range=[\"#6E6581\", \"#B0B2BB\", \"#6B8A97\"]\n",
                "    ),\n",
                ")\n",
                "\n",
                "conc_max_comparison = (\n",
                "    alt.Chart(res)\n",
                "    .mark_bar()\n",
                "    .encode(\n",
                "        x=alt.X(\"Temperature:N\", axis=alt.Axis(labelAngle=-45)),\n",
                "        y=alt.Y(\"mean(Values):Q\", title=\"Number of Identifications\"),\n",
                "        color=my_colors\n",
                "    )\n",
                ").properties(\n",
                "    width=75,\n",
                "    height=75\n",
                ")\n",
                "\n",
                "cmc_err_bars = (\n",
                "    alt.Chart(res)\n",
                "    .mark_errorbar(extent='stdev')\n",
                "    .encode(\n",
                "        x=alt.X(\"Temperature:N\", title=\"\", axis=alt.Axis(labelAngle=-45)),\n",
                "        y=alt.Y(\"mean(Values):Q\", title=\"\"),\n",
                "    )\n",
                ")\n",
                "\n",
                "base = alt.layer(conc_max_comparison, cmc_err_bars).facet(\n",
                "    column=\"Kind:N\", spacing=50,\n",
                ")\n",
                "\n",
                "max_conc = base.transform_filter(\n",
                "        alt.datum.Concentration == 1.0\n",
                "    ).properties(\n",
                "        title='Temperature Differences, Max Concentration'\n",
                "    )\n",
                "\n",
                "\n",
                "all_conc = alt.vconcat()\n",
                "for concentration in res.Concentration.unique():\n",
                "    all_conc &= base.transform_filter(alt.datum.Concentration==concentration).properties(title=f'Concentration = {concentration}')\n"
            ]
        },
        {
            "cell_type": "code",
            "execution_count": 193,
            "metadata": {},
            "outputs": [
                {
                    "output_type": "execute_result",
                    "data": {
                        "text/html": "\n<div id=\"altair-viz-bf6c1ec5b102487a84550743e890467d\"></div>\n<script type=\"text/javascript\">\n  (function(spec, embedOpt){\n    let outputDiv = document.currentScript.previousElementSibling;\n    if (outputDiv.id !== \"altair-viz-bf6c1ec5b102487a84550743e890467d\") {\n      outputDiv = document.getElementById(\"altair-viz-bf6c1ec5b102487a84550743e890467d\");\n    }\n    const paths = {\n      \"vega\": \"https://cdn.jsdelivr.net/npm//vega@5?noext\",\n      \"vega-lib\": \"https://cdn.jsdelivr.net/npm//vega-lib?noext\",\n      \"vega-lite\": \"https://cdn.jsdelivr.net/npm//vega-lite@4.8.1?noext\",\n      \"vega-embed\": \"https://cdn.jsdelivr.net/npm//vega-embed@6?noext\",\n    };\n\n    function loadScript(lib) {\n      return new Promise(function(resolve, reject) {\n        var s = document.createElement('script');\n        s.src = paths[lib];\n        s.async = true;\n        s.onload = () => resolve(paths[lib]);\n        s.onerror = () => reject(`Error loading script: ${paths[lib]}`);\n        document.getElementsByTagName(\"head\")[0].appendChild(s);\n      });\n    }\n\n    function showError(err) {\n      outputDiv.innerHTML = `<div class=\"error\" style=\"color:red;\">${err}</div>`;\n      throw err;\n    }\n\n    function displayChart(vegaEmbed) {\n      vegaEmbed(outputDiv, spec, embedOpt)\n        .catch(err => showError(`Javascript Error: ${err.message}<br>This usually means there's a typo in your chart specification. See the javascript console for the full traceback.`));\n    }\n\n    if(typeof define === \"function\" && define.amd) {\n      requirejs.config({paths});\n      require([\"vega-embed\"], displayChart, err => showError(`Error loading script: ${err.message}`));\n    } else if (typeof vegaEmbed === \"function\") {\n      displayChart(vegaEmbed);\n    } else {\n      loadScript(\"vega\")\n        .then(() => loadScript(\"vega-lite\"))\n        .then(() => loadScript(\"vega-embed\"))\n        .catch(showError)\n        .then(() => displayChart(vegaEmbed));\n    }\n  })({\"config\": {\"view\": {\"continuousWidth\": 400, \"continuousHeight\": 300}}, \"vconcat\": [{\"facet\": {\"column\": {\"type\": \"nominal\", \"field\": \"Kind\"}}, \"spec\": {\"layer\": [{\"mark\": \"bar\", \"encoding\": {\"color\": {\"type\": \"nominal\", \"field\": \"Temperature\", \"scale\": {\"domain\": [\"30C\", \"45C\", \"60C\"], \"range\": [\"#6E6581\", \"#B0B2BB\", \"#6B8A97\"]}}, \"x\": {\"type\": \"nominal\", \"axis\": {\"labelAngle\": -45}, \"field\": \"Temperature\"}, \"y\": {\"type\": \"quantitative\", \"aggregate\": \"mean\", \"field\": \"Values\", \"title\": \"Number of Identifications\"}}, \"height\": 75, \"width\": 75}, {\"mark\": {\"type\": \"errorbar\", \"extent\": \"stdev\"}, \"encoding\": {\"x\": {\"type\": \"nominal\", \"axis\": {\"labelAngle\": -45}, \"field\": \"Temperature\", \"title\": \"\"}, \"y\": {\"type\": \"quantitative\", \"aggregate\": \"mean\", \"field\": \"Values\", \"title\": \"\"}}}]}, \"spacing\": 50, \"title\": \"Concentration = 0.0625\", \"transform\": [{\"filter\": \"(datum.Concentration === 0.0625)\"}]}, {\"facet\": {\"column\": {\"type\": \"nominal\", \"field\": \"Kind\"}}, \"spec\": {\"layer\": [{\"mark\": \"bar\", \"encoding\": {\"color\": {\"type\": \"nominal\", \"field\": \"Temperature\", \"scale\": {\"domain\": [\"30C\", \"45C\", \"60C\"], \"range\": [\"#6E6581\", \"#B0B2BB\", \"#6B8A97\"]}}, \"x\": {\"type\": \"nominal\", \"axis\": {\"labelAngle\": -45}, \"field\": \"Temperature\"}, \"y\": {\"type\": \"quantitative\", \"aggregate\": \"mean\", \"field\": \"Values\", \"title\": \"Number of Identifications\"}}, \"height\": 75, \"width\": 75}, {\"mark\": {\"type\": \"errorbar\", \"extent\": \"stdev\"}, \"encoding\": {\"x\": {\"type\": \"nominal\", \"axis\": {\"labelAngle\": -45}, \"field\": \"Temperature\", \"title\": \"\"}, \"y\": {\"type\": \"quantitative\", \"aggregate\": \"mean\", \"field\": \"Values\", \"title\": \"\"}}}]}, \"spacing\": 50, \"title\": \"Concentration = 0.125\", \"transform\": [{\"filter\": \"(datum.Concentration === 0.125)\"}]}, {\"facet\": {\"column\": {\"type\": \"nominal\", \"field\": \"Kind\"}}, \"spec\": {\"layer\": [{\"mark\": \"bar\", \"encoding\": {\"color\": {\"type\": \"nominal\", \"field\": \"Temperature\", \"scale\": {\"domain\": [\"30C\", \"45C\", \"60C\"], \"range\": [\"#6E6581\", \"#B0B2BB\", \"#6B8A97\"]}}, \"x\": {\"type\": \"nominal\", \"axis\": {\"labelAngle\": -45}, \"field\": \"Temperature\"}, \"y\": {\"type\": \"quantitative\", \"aggregate\": \"mean\", \"field\": \"Values\", \"title\": \"Number of Identifications\"}}, \"height\": 75, \"width\": 75}, {\"mark\": {\"type\": \"errorbar\", \"extent\": \"stdev\"}, \"encoding\": {\"x\": {\"type\": \"nominal\", \"axis\": {\"labelAngle\": -45}, \"field\": \"Temperature\", \"title\": \"\"}, \"y\": {\"type\": \"quantitative\", \"aggregate\": \"mean\", \"field\": \"Values\", \"title\": \"\"}}}]}, \"spacing\": 50, \"title\": \"Concentration = 0.25\", \"transform\": [{\"filter\": \"(datum.Concentration === 0.25)\"}]}, {\"facet\": {\"column\": {\"type\": \"nominal\", \"field\": \"Kind\"}}, \"spec\": {\"layer\": [{\"mark\": \"bar\", \"encoding\": {\"color\": {\"type\": \"nominal\", \"field\": \"Temperature\", \"scale\": {\"domain\": [\"30C\", \"45C\", \"60C\"], \"range\": [\"#6E6581\", \"#B0B2BB\", \"#6B8A97\"]}}, \"x\": {\"type\": \"nominal\", \"axis\": {\"labelAngle\": -45}, \"field\": \"Temperature\"}, \"y\": {\"type\": \"quantitative\", \"aggregate\": \"mean\", \"field\": \"Values\", \"title\": \"Number of Identifications\"}}, \"height\": 75, \"width\": 75}, {\"mark\": {\"type\": \"errorbar\", \"extent\": \"stdev\"}, \"encoding\": {\"x\": {\"type\": \"nominal\", \"axis\": {\"labelAngle\": -45}, \"field\": \"Temperature\", \"title\": \"\"}, \"y\": {\"type\": \"quantitative\", \"aggregate\": \"mean\", \"field\": \"Values\", \"title\": \"\"}}}]}, \"spacing\": 50, \"title\": \"Concentration = 0.5\", \"transform\": [{\"filter\": \"(datum.Concentration === 0.5)\"}]}, {\"facet\": {\"column\": {\"type\": \"nominal\", \"field\": \"Kind\"}}, \"spec\": {\"layer\": [{\"mark\": \"bar\", \"encoding\": {\"color\": {\"type\": \"nominal\", \"field\": \"Temperature\", \"scale\": {\"domain\": [\"30C\", \"45C\", \"60C\"], \"range\": [\"#6E6581\", \"#B0B2BB\", \"#6B8A97\"]}}, \"x\": {\"type\": \"nominal\", \"axis\": {\"labelAngle\": -45}, \"field\": \"Temperature\"}, \"y\": {\"type\": \"quantitative\", \"aggregate\": \"mean\", \"field\": \"Values\", \"title\": \"Number of Identifications\"}}, \"height\": 75, \"width\": 75}, {\"mark\": {\"type\": \"errorbar\", \"extent\": \"stdev\"}, \"encoding\": {\"x\": {\"type\": \"nominal\", \"axis\": {\"labelAngle\": -45}, \"field\": \"Temperature\", \"title\": \"\"}, \"y\": {\"type\": \"quantitative\", \"aggregate\": \"mean\", \"field\": \"Values\", \"title\": \"\"}}}]}, \"spacing\": 50, \"title\": \"Concentration = 1.0\", \"transform\": [{\"filter\": \"(datum.Concentration === 1.0)\"}]}], \"data\": {\"name\": \"data-d7c6d3f8dbb6324a90aeb534de8e0386\"}, \"$schema\": \"https://vega.github.io/schema/vega-lite/v4.8.1.json\", \"datasets\": {\"data-d7c6d3f8dbb6324a90aeb534de8e0386\": [{\"Temperature\": \"30C\", \"Kind\": \"Unique Glycopeptides\", \"Values\": 55, \"Concentration\": 0.0625}, {\"Temperature\": \"30C\", \"Kind\": \"Unique Backbones\", \"Values\": 8, \"Concentration\": 0.0625}, {\"Temperature\": \"30C\", \"Kind\": \"Unique Glycans\", \"Values\": 27, \"Concentration\": 0.0625}, {\"Temperature\": \"30C\", \"Kind\": \"Unique Glycopeptides\", \"Values\": 50, \"Concentration\": 0.0625}, {\"Temperature\": \"30C\", \"Kind\": \"Unique Backbones\", \"Values\": 7, \"Concentration\": 0.0625}, {\"Temperature\": \"30C\", \"Kind\": \"Unique Glycans\", \"Values\": 25, \"Concentration\": 0.0625}, {\"Temperature\": \"30C\", \"Kind\": \"Unique Glycopeptides\", \"Values\": 52, \"Concentration\": 0.0625}, {\"Temperature\": \"30C\", \"Kind\": \"Unique Backbones\", \"Values\": 8, \"Concentration\": 0.0625}, {\"Temperature\": \"30C\", \"Kind\": \"Unique Glycans\", \"Values\": 27, \"Concentration\": 0.0625}, {\"Temperature\": \"45C\", \"Kind\": \"Unique Glycopeptides\", \"Values\": 47, \"Concentration\": 0.0625}, {\"Temperature\": \"45C\", \"Kind\": \"Unique Backbones\", \"Values\": 7, \"Concentration\": 0.0625}, {\"Temperature\": \"45C\", \"Kind\": \"Unique Glycans\", \"Values\": 23, \"Concentration\": 0.0625}, {\"Temperature\": \"45C\", \"Kind\": \"Unique Glycopeptides\", \"Values\": 49, \"Concentration\": 0.0625}, {\"Temperature\": \"45C\", \"Kind\": \"Unique Backbones\", \"Values\": 7, \"Concentration\": 0.0625}, {\"Temperature\": \"45C\", \"Kind\": \"Unique Glycans\", \"Values\": 24, \"Concentration\": 0.0625}, {\"Temperature\": \"45C\", \"Kind\": \"Unique Glycopeptides\", \"Values\": 43, \"Concentration\": 0.0625}, {\"Temperature\": \"45C\", \"Kind\": \"Unique Backbones\", \"Values\": 7, \"Concentration\": 0.0625}, {\"Temperature\": \"45C\", \"Kind\": \"Unique Glycans\", \"Values\": 21, \"Concentration\": 0.0625}, {\"Temperature\": \"60C\", \"Kind\": \"Unique Glycopeptides\", \"Values\": 37, \"Concentration\": 0.0625}, {\"Temperature\": \"60C\", \"Kind\": \"Unique Backbones\", \"Values\": 7, \"Concentration\": 0.0625}, {\"Temperature\": \"60C\", \"Kind\": \"Unique Glycans\", \"Values\": 19, \"Concentration\": 0.0625}, {\"Temperature\": \"60C\", \"Kind\": \"Unique Glycopeptides\", \"Values\": 42, \"Concentration\": 0.0625}, {\"Temperature\": \"60C\", \"Kind\": \"Unique Backbones\", \"Values\": 7, \"Concentration\": 0.0625}, {\"Temperature\": \"60C\", \"Kind\": \"Unique Glycans\", \"Values\": 20, \"Concentration\": 0.0625}, {\"Temperature\": \"60C\", \"Kind\": \"Unique Glycopeptides\", \"Values\": 39, \"Concentration\": 0.0625}, {\"Temperature\": \"60C\", \"Kind\": \"Unique Backbones\", \"Values\": 7, \"Concentration\": 0.0625}, {\"Temperature\": \"60C\", \"Kind\": \"Unique Glycans\", \"Values\": 21, \"Concentration\": 0.0625}, {\"Temperature\": \"30C\", \"Kind\": \"Unique Glycopeptides\", \"Values\": 74, \"Concentration\": 0.125}, {\"Temperature\": \"30C\", \"Kind\": \"Unique Backbones\", \"Values\": 8, \"Concentration\": 0.125}, {\"Temperature\": \"30C\", \"Kind\": \"Unique Glycans\", \"Values\": 32, \"Concentration\": 0.125}, {\"Temperature\": \"30C\", \"Kind\": \"Unique Glycopeptides\", \"Values\": 67, \"Concentration\": 0.125}, {\"Temperature\": \"30C\", \"Kind\": \"Unique Backbones\", \"Values\": 9, \"Concentration\": 0.125}, {\"Temperature\": \"30C\", \"Kind\": \"Unique Glycans\", \"Values\": 29, \"Concentration\": 0.125}, {\"Temperature\": \"30C\", \"Kind\": \"Unique Glycopeptides\", \"Values\": 63, \"Concentration\": 0.125}, {\"Temperature\": \"30C\", \"Kind\": \"Unique Backbones\", \"Values\": 8, \"Concentration\": 0.125}, {\"Temperature\": \"30C\", \"Kind\": \"Unique Glycans\", \"Values\": 27, \"Concentration\": 0.125}, {\"Temperature\": \"45C\", \"Kind\": \"Unique Glycopeptides\", \"Values\": 65, \"Concentration\": 0.125}, {\"Temperature\": \"45C\", \"Kind\": \"Unique Backbones\", \"Values\": 8, \"Concentration\": 0.125}, {\"Temperature\": \"45C\", \"Kind\": \"Unique Glycans\", \"Values\": 33, \"Concentration\": 0.125}, {\"Temperature\": \"45C\", \"Kind\": \"Unique Glycopeptides\", \"Values\": 68, \"Concentration\": 0.125}, {\"Temperature\": \"45C\", \"Kind\": \"Unique Backbones\", \"Values\": 8, \"Concentration\": 0.125}, {\"Temperature\": \"45C\", \"Kind\": \"Unique Glycans\", \"Values\": 33, \"Concentration\": 0.125}, {\"Temperature\": \"45C\", \"Kind\": \"Unique Glycopeptides\", \"Values\": 63, \"Concentration\": 0.125}, {\"Temperature\": \"45C\", \"Kind\": \"Unique Backbones\", \"Values\": 8, \"Concentration\": 0.125}, {\"Temperature\": \"45C\", \"Kind\": \"Unique Glycans\", \"Values\": 26, \"Concentration\": 0.125}, {\"Temperature\": \"60C\", \"Kind\": \"Unique Glycopeptides\", \"Values\": 52, \"Concentration\": 0.125}, {\"Temperature\": \"60C\", \"Kind\": \"Unique Backbones\", \"Values\": 7, \"Concentration\": 0.125}, {\"Temperature\": \"60C\", \"Kind\": \"Unique Glycans\", \"Values\": 25, \"Concentration\": 0.125}, {\"Temperature\": \"60C\", \"Kind\": \"Unique Glycopeptides\", \"Values\": 55, \"Concentration\": 0.125}, {\"Temperature\": \"60C\", \"Kind\": \"Unique Backbones\", \"Values\": 8, \"Concentration\": 0.125}, {\"Temperature\": \"60C\", \"Kind\": \"Unique Glycans\", \"Values\": 23, \"Concentration\": 0.125}, {\"Temperature\": \"60C\", \"Kind\": \"Unique Glycopeptides\", \"Values\": 54, \"Concentration\": 0.125}, {\"Temperature\": \"60C\", \"Kind\": \"Unique Backbones\", \"Values\": 7, \"Concentration\": 0.125}, {\"Temperature\": \"60C\", \"Kind\": \"Unique Glycans\", \"Values\": 24, \"Concentration\": 0.125}, {\"Temperature\": \"30C\", \"Kind\": \"Unique Glycopeptides\", \"Values\": 93, \"Concentration\": 0.25}, {\"Temperature\": \"30C\", \"Kind\": \"Unique Backbones\", \"Values\": 8, \"Concentration\": 0.25}, {\"Temperature\": \"30C\", \"Kind\": \"Unique Glycans\", \"Values\": 36, \"Concentration\": 0.25}, {\"Temperature\": \"30C\", \"Kind\": \"Unique Glycopeptides\", \"Values\": 100, \"Concentration\": 0.25}, {\"Temperature\": \"30C\", \"Kind\": \"Unique Backbones\", \"Values\": 8, \"Concentration\": 0.25}, {\"Temperature\": \"30C\", \"Kind\": \"Unique Glycans\", \"Values\": 35, \"Concentration\": 0.25}, {\"Temperature\": \"30C\", \"Kind\": \"Unique Glycopeptides\", \"Values\": 83, \"Concentration\": 0.25}, {\"Temperature\": \"30C\", \"Kind\": \"Unique Backbones\", \"Values\": 8, \"Concentration\": 0.25}, {\"Temperature\": \"30C\", \"Kind\": \"Unique Glycans\", \"Values\": 35, \"Concentration\": 0.25}, {\"Temperature\": \"45C\", \"Kind\": \"Unique Glycopeptides\", \"Values\": 81, \"Concentration\": 0.25}, {\"Temperature\": \"45C\", \"Kind\": \"Unique Backbones\", \"Values\": 8, \"Concentration\": 0.25}, {\"Temperature\": \"45C\", \"Kind\": \"Unique Glycans\", \"Values\": 34, \"Concentration\": 0.25}, {\"Temperature\": \"45C\", \"Kind\": \"Unique Glycopeptides\", \"Values\": 82, \"Concentration\": 0.25}, {\"Temperature\": \"45C\", \"Kind\": \"Unique Backbones\", \"Values\": 8, \"Concentration\": 0.25}, {\"Temperature\": \"45C\", \"Kind\": \"Unique Glycans\", \"Values\": 32, \"Concentration\": 0.25}, {\"Temperature\": \"45C\", \"Kind\": \"Unique Glycopeptides\", \"Values\": 85, \"Concentration\": 0.25}, {\"Temperature\": \"45C\", \"Kind\": \"Unique Backbones\", \"Values\": 9, \"Concentration\": 0.25}, {\"Temperature\": \"45C\", \"Kind\": \"Unique Glycans\", \"Values\": 34, \"Concentration\": 0.25}, {\"Temperature\": \"60C\", \"Kind\": \"Unique Glycopeptides\", \"Values\": 69, \"Concentration\": 0.25}, {\"Temperature\": \"60C\", \"Kind\": \"Unique Backbones\", \"Values\": 8, \"Concentration\": 0.25}, {\"Temperature\": \"60C\", \"Kind\": \"Unique Glycans\", \"Values\": 27, \"Concentration\": 0.25}, {\"Temperature\": \"60C\", \"Kind\": \"Unique Glycopeptides\", \"Values\": 69, \"Concentration\": 0.25}, {\"Temperature\": \"60C\", \"Kind\": \"Unique Backbones\", \"Values\": 8, \"Concentration\": 0.25}, {\"Temperature\": \"60C\", \"Kind\": \"Unique Glycans\", \"Values\": 28, \"Concentration\": 0.25}, {\"Temperature\": \"60C\", \"Kind\": \"Unique Glycopeptides\", \"Values\": 62, \"Concentration\": 0.25}, {\"Temperature\": \"60C\", \"Kind\": \"Unique Backbones\", \"Values\": 8, \"Concentration\": 0.25}, {\"Temperature\": \"60C\", \"Kind\": \"Unique Glycans\", \"Values\": 30, \"Concentration\": 0.25}, {\"Temperature\": \"30C\", \"Kind\": \"Unique Glycopeptides\", \"Values\": 113, \"Concentration\": 0.5}, {\"Temperature\": \"30C\", \"Kind\": \"Unique Backbones\", \"Values\": 11, \"Concentration\": 0.5}, {\"Temperature\": \"30C\", \"Kind\": \"Unique Glycans\", \"Values\": 45, \"Concentration\": 0.5}, {\"Temperature\": \"30C\", \"Kind\": \"Unique Glycopeptides\", \"Values\": 109, \"Concentration\": 0.5}, {\"Temperature\": \"30C\", \"Kind\": \"Unique Backbones\", \"Values\": 11, \"Concentration\": 0.5}, {\"Temperature\": \"30C\", \"Kind\": \"Unique Glycans\", \"Values\": 42, \"Concentration\": 0.5}, {\"Temperature\": \"30C\", \"Kind\": \"Unique Glycopeptides\", \"Values\": 106, \"Concentration\": 0.5}, {\"Temperature\": \"30C\", \"Kind\": \"Unique Backbones\", \"Values\": 10, \"Concentration\": 0.5}, {\"Temperature\": \"30C\", \"Kind\": \"Unique Glycans\", \"Values\": 39, \"Concentration\": 0.5}, {\"Temperature\": \"45C\", \"Kind\": \"Unique Glycopeptides\", \"Values\": 98, \"Concentration\": 0.5}, {\"Temperature\": \"45C\", \"Kind\": \"Unique Backbones\", \"Values\": 10, \"Concentration\": 0.5}, {\"Temperature\": \"45C\", \"Kind\": \"Unique Glycans\", \"Values\": 38, \"Concentration\": 0.5}, {\"Temperature\": \"45C\", \"Kind\": \"Unique Glycopeptides\", \"Values\": 112, \"Concentration\": 0.5}, {\"Temperature\": \"45C\", \"Kind\": \"Unique Backbones\", \"Values\": 12, \"Concentration\": 0.5}, {\"Temperature\": \"45C\", \"Kind\": \"Unique Glycans\", \"Values\": 39, \"Concentration\": 0.5}, {\"Temperature\": \"45C\", \"Kind\": \"Unique Glycopeptides\", \"Values\": 104, \"Concentration\": 0.5}, {\"Temperature\": \"45C\", \"Kind\": \"Unique Backbones\", \"Values\": 10, \"Concentration\": 0.5}, {\"Temperature\": \"45C\", \"Kind\": \"Unique Glycans\", \"Values\": 39, \"Concentration\": 0.5}, {\"Temperature\": \"60C\", \"Kind\": \"Unique Glycopeptides\", \"Values\": 91, \"Concentration\": 0.5}, {\"Temperature\": \"60C\", \"Kind\": \"Unique Backbones\", \"Values\": 11, \"Concentration\": 0.5}, {\"Temperature\": \"60C\", \"Kind\": \"Unique Glycans\", \"Values\": 41, \"Concentration\": 0.5}, {\"Temperature\": \"60C\", \"Kind\": \"Unique Glycopeptides\", \"Values\": 82, \"Concentration\": 0.5}, {\"Temperature\": \"60C\", \"Kind\": \"Unique Backbones\", \"Values\": 9, \"Concentration\": 0.5}, {\"Temperature\": \"60C\", \"Kind\": \"Unique Glycans\", \"Values\": 36, \"Concentration\": 0.5}, {\"Temperature\": \"60C\", \"Kind\": \"Unique Glycopeptides\", \"Values\": 78, \"Concentration\": 0.5}, {\"Temperature\": \"60C\", \"Kind\": \"Unique Backbones\", \"Values\": 8, \"Concentration\": 0.5}, {\"Temperature\": \"60C\", \"Kind\": \"Unique Glycans\", \"Values\": 31, \"Concentration\": 0.5}, {\"Temperature\": \"30C\", \"Kind\": \"Unique Glycopeptides\", \"Values\": 123, \"Concentration\": 1.0}, {\"Temperature\": \"30C\", \"Kind\": \"Unique Backbones\", \"Values\": 12, \"Concentration\": 1.0}, {\"Temperature\": \"30C\", \"Kind\": \"Unique Glycans\", \"Values\": 47, \"Concentration\": 1.0}, {\"Temperature\": \"30C\", \"Kind\": \"Unique Glycopeptides\", \"Values\": 126, \"Concentration\": 1.0}, {\"Temperature\": \"30C\", \"Kind\": \"Unique Backbones\", \"Values\": 11, \"Concentration\": 1.0}, {\"Temperature\": \"30C\", \"Kind\": \"Unique Glycans\", \"Values\": 44, \"Concentration\": 1.0}, {\"Temperature\": \"30C\", \"Kind\": \"Unique Glycopeptides\", \"Values\": 122, \"Concentration\": 1.0}, {\"Temperature\": \"30C\", \"Kind\": \"Unique Backbones\", \"Values\": 12, \"Concentration\": 1.0}, {\"Temperature\": \"30C\", \"Kind\": \"Unique Glycans\", \"Values\": 47, \"Concentration\": 1.0}, {\"Temperature\": \"45C\", \"Kind\": \"Unique Glycopeptides\", \"Values\": 131, \"Concentration\": 1.0}, {\"Temperature\": \"45C\", \"Kind\": \"Unique Backbones\", \"Values\": 12, \"Concentration\": 1.0}, {\"Temperature\": \"45C\", \"Kind\": \"Unique Glycans\", \"Values\": 45, \"Concentration\": 1.0}, {\"Temperature\": \"45C\", \"Kind\": \"Unique Glycopeptides\", \"Values\": 129, \"Concentration\": 1.0}, {\"Temperature\": \"45C\", \"Kind\": \"Unique Backbones\", \"Values\": 12, \"Concentration\": 1.0}, {\"Temperature\": \"45C\", \"Kind\": \"Unique Glycans\", \"Values\": 44, \"Concentration\": 1.0}, {\"Temperature\": \"45C\", \"Kind\": \"Unique Glycopeptides\", \"Values\": 138, \"Concentration\": 1.0}, {\"Temperature\": \"45C\", \"Kind\": \"Unique Backbones\", \"Values\": 15, \"Concentration\": 1.0}, {\"Temperature\": \"45C\", \"Kind\": \"Unique Glycans\", \"Values\": 45, \"Concentration\": 1.0}, {\"Temperature\": \"60C\", \"Kind\": \"Unique Glycopeptides\", \"Values\": 105, \"Concentration\": 1.0}, {\"Temperature\": \"60C\", \"Kind\": \"Unique Backbones\", \"Values\": 10, \"Concentration\": 1.0}, {\"Temperature\": \"60C\", \"Kind\": \"Unique Glycans\", \"Values\": 36, \"Concentration\": 1.0}, {\"Temperature\": \"60C\", \"Kind\": \"Unique Glycopeptides\", \"Values\": 105, \"Concentration\": 1.0}, {\"Temperature\": \"60C\", \"Kind\": \"Unique Backbones\", \"Values\": 12, \"Concentration\": 1.0}, {\"Temperature\": \"60C\", \"Kind\": \"Unique Glycans\", \"Values\": 38, \"Concentration\": 1.0}, {\"Temperature\": \"60C\", \"Kind\": \"Unique Glycopeptides\", \"Values\": 101, \"Concentration\": 1.0}, {\"Temperature\": \"60C\", \"Kind\": \"Unique Backbones\", \"Values\": 10, \"Concentration\": 1.0}, {\"Temperature\": \"60C\", \"Kind\": \"Unique Glycans\", \"Values\": 35, \"Concentration\": 1.0}]}}, {\"mode\": \"vega-lite\"});\n</script>",
                        "text/plain": [
                            "alt.VConcatChart(...)"
                        ]
                    },
                    "metadata": {},
                    "execution_count": 193
                }
            ],
            "source": [
                "all_conc"
            ]
        },
        {
            "source": [
                "# Observations\n",
                "When comparing across temperatures, there is often a slight difference in number of identifications between 30C and 45C. However, this difference is small and shows no consistent trend between concentrations analyzed.\n",
                "\n",
                "However, at all concentrations tested, their is a significant difference when running at 60C. What could be causing this?\n",
                "\n"
            ],
            "cell_type": "markdown",
            "metadata": {}
        },
        {
            "source": [
                "## 1b\n",
                "\n",
                "What is a main source of this difference?"
            ],
            "cell_type": "markdown",
            "metadata": {}
        },
        {
            "source": [
                "## 2a\n",
                "\n",
                "Do all glycan types experience this trend?"
            ],
            "cell_type": "markdown",
            "metadata": {}
        },
        {
            "cell_type": "code",
            "execution_count": 194,
            "metadata": {},
            "outputs": [],
            "source": [
                "import shutil"
            ]
        },
        {
            "cell_type": "code",
            "execution_count": 203,
            "metadata": {},
            "outputs": [],
            "source": [
                "destination = r'./N_Glycosylation_Results/'\n",
                "os.makedirs(destination)\n",
                "for file in files:\n",
                "    base_name = os.path.basename(file)\n",
                "    shutil.copy(file, os.path.join(destination, base_name))"
            ]
        },
        {
            "cell_type": "code",
            "execution_count": 201,
            "metadata": {},
            "outputs": [
                {
                    "output_type": "execute_result",
                    "data": {
                        "text/plain": [
                            "<module 'ntpath' from 'C:\\\\Users\\\\graha\\\\AppData\\\\Local\\\\Programs\\\\Python\\\\Python38\\\\lib\\\\ntpath.py'>"
                        ]
                    },
                    "metadata": {},
                    "execution_count": 201
                }
            ],
            "source": [
                "os.path"
            ]
        },
        {
            "cell_type": "code",
            "execution_count": null,
            "metadata": {},
            "outputs": [],
            "source": []
        }
    ],
    "metadata": {
        "orig_nbformat": 4,
        "language_info": {
            "name": "python",
            "version": "3.8.1",
            "mimetype": "text/x-python",
            "codemirror_mode": {
                "name": "ipython",
                "version": 3
            },
            "pygments_lexer": "ipython3",
            "nbconvert_exporter": "python",
            "file_extension": ".py"
        },
        "kernelspec": {
            "name": "python3",
            "display_name": "Python 3.8.1 64-bit"
        },
        "interpreter": {
            "hash": "2dc8ddb28d496379d707e9e93ed511d713ad5e3a7eecf718e662549bc379cb9d"
        }
    },
    "nbformat": 4,
    "nbformat_minor": 2
}