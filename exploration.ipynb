{
    "cells": [
        {
            "cell_type": "code",
            "execution_count": 3,
            "source": [
                "import numpy as np \r\n",
                "import pandas as pd \r\n",
                "import altair as alt \r\n",
                "import os \r\n",
                "import re \r\n",
                "import ntpath\r\n",
                "from Commons.data_processing import *\r\n",
                "from Commons.DataProcessors.pd_processor import PDProcessor\r\n"
            ],
            "outputs": [],
            "metadata": {}
        },
        {
            "cell_type": "code",
            "execution_count": 4,
            "source": [
                "files = get_files(r'E:\\Research\\Proteome Discoverer\\20210825_StdProt_Glyco')"
            ],
            "outputs": [],
            "metadata": {}
        },
        {
            "cell_type": "code",
            "execution_count": 7,
            "source": [
                "\r\n",
                "read_data = None\r\n",
                "\r\n",
                "for file in files:\r\n",
                "    base_name, _ = ntpath.splitext(ntpath.basename(file))\r\n",
                "    div = base_name.split('-')[0]\r\n",
                "    div = div.split('_')\r\n",
                "    conc, temp, run = div[-3:]\r\n",
                "    \r\n",
                "    data = PDProcessor([file], sample_name='_'.join(div[-3:]))\r\n",
                "    data.add_special_column('concentration', conc)\r\n",
                "    data.add_special_column('temperature', temp)\r\n",
                "    data.add_special_column('run', run)\r\n",
                "\r\n",
                "    if read_data is None:\r\n",
                "        read_data = data \r\n",
                "    else:\r\n",
                "        read_data.join_processors(data)\r\n",
                "\r\n",
                "    \r\n",
                "read_data.alias_engine('')        "
            ],
            "outputs": [],
            "metadata": {}
        },
        {
            "cell_type": "code",
            "execution_count": 11,
            "source": [
                "peptides = read_data.peptides[~read_data.peptides.isna()]"
            ],
            "outputs": [],
            "metadata": {}
        },
        {
            "cell_type": "code",
            "execution_count": 18,
            "source": [
                "cutoffs = [50, 100, 150, 200, 250, 300, 350, 400, 500]\r\n",
                "nums = []\r\n",
                "for cut in cutoffs:\r\n",
                "    nums.append(len(peptides[peptides.byonic_score >= cut]))\r\n",
                "\r\n",
                "res = pd.DataFrame({\r\n",
                "    'cutoffs':cutoffs,\r\n",
                "    'vals':nums\r\n",
                "})\r\n",
                "\r\n",
                "alt.Chart(res).mark_bar().encode(\r\n",
                "    x='cutoffs:N',\r\n",
                "    y='vals:Q'\r\n",
                ")"
            ],
            "outputs": [
                {
                    "output_type": "execute_result",
                    "data": {
                        "text/plain": [
                            "alt.Chart(...)"
                        ],
                        "text/html": [
                            "\n",
                            "<div id=\"altair-viz-1c90e5de123a4ff9acb983d44425d2d1\"></div>\n",
                            "<script type=\"text/javascript\">\n",
                            "  (function(spec, embedOpt){\n",
                            "    let outputDiv = document.currentScript.previousElementSibling;\n",
                            "    if (outputDiv.id !== \"altair-viz-1c90e5de123a4ff9acb983d44425d2d1\") {\n",
                            "      outputDiv = document.getElementById(\"altair-viz-1c90e5de123a4ff9acb983d44425d2d1\");\n",
                            "    }\n",
                            "    const paths = {\n",
                            "      \"vega\": \"https://cdn.jsdelivr.net/npm//vega@5?noext\",\n",
                            "      \"vega-lib\": \"https://cdn.jsdelivr.net/npm//vega-lib?noext\",\n",
                            "      \"vega-lite\": \"https://cdn.jsdelivr.net/npm//vega-lite@4.8.1?noext\",\n",
                            "      \"vega-embed\": \"https://cdn.jsdelivr.net/npm//vega-embed@6?noext\",\n",
                            "    };\n",
                            "\n",
                            "    function loadScript(lib) {\n",
                            "      return new Promise(function(resolve, reject) {\n",
                            "        var s = document.createElement('script');\n",
                            "        s.src = paths[lib];\n",
                            "        s.async = true;\n",
                            "        s.onload = () => resolve(paths[lib]);\n",
                            "        s.onerror = () => reject(`Error loading script: ${paths[lib]}`);\n",
                            "        document.getElementsByTagName(\"head\")[0].appendChild(s);\n",
                            "      });\n",
                            "    }\n",
                            "\n",
                            "    function showError(err) {\n",
                            "      outputDiv.innerHTML = `<div class=\"error\" style=\"color:red;\">${err}</div>`;\n",
                            "      throw err;\n",
                            "    }\n",
                            "\n",
                            "    function displayChart(vegaEmbed) {\n",
                            "      vegaEmbed(outputDiv, spec, embedOpt)\n",
                            "        .catch(err => showError(`Javascript Error: ${err.message}<br>This usually means there's a typo in your chart specification. See the javascript console for the full traceback.`));\n",
                            "    }\n",
                            "\n",
                            "    if(typeof define === \"function\" && define.amd) {\n",
                            "      requirejs.config({paths});\n",
                            "      require([\"vega-embed\"], displayChart, err => showError(`Error loading script: ${err.message}`));\n",
                            "    } else if (typeof vegaEmbed === \"function\") {\n",
                            "      displayChart(vegaEmbed);\n",
                            "    } else {\n",
                            "      loadScript(\"vega\")\n",
                            "        .then(() => loadScript(\"vega-lite\"))\n",
                            "        .then(() => loadScript(\"vega-embed\"))\n",
                            "        .catch(showError)\n",
                            "        .then(() => displayChart(vegaEmbed));\n",
                            "    }\n",
                            "  })({\"config\": {\"view\": {\"continuousWidth\": 400, \"continuousHeight\": 300}}, \"data\": {\"name\": \"data-7fb902a988ca052491f23b9a8cbf1ea5\"}, \"mark\": \"bar\", \"encoding\": {\"x\": {\"type\": \"nominal\", \"field\": \"cutoffs\"}, \"y\": {\"type\": \"quantitative\", \"field\": \"vals\"}}, \"$schema\": \"https://vega.github.io/schema/vega-lite/v4.8.1.json\", \"datasets\": {\"data-7fb902a988ca052491f23b9a8cbf1ea5\": [{\"cutoffs\": 50, \"vals\": 9309}, {\"cutoffs\": 100, \"vals\": 7357}, {\"cutoffs\": 150, \"vals\": 6229}, {\"cutoffs\": 200, \"vals\": 5234}, {\"cutoffs\": 250, \"vals\": 4509}, {\"cutoffs\": 300, \"vals\": 3841}, {\"cutoffs\": 350, \"vals\": 3172}, {\"cutoffs\": 400, \"vals\": 2428}, {\"cutoffs\": 500, \"vals\": 1341}]}}, {\"mode\": \"vega-lite\"});\n",
                            "</script>"
                        ]
                    },
                    "metadata": {},
                    "execution_count": 18
                }
            ],
            "metadata": {}
        },
        {
            "cell_type": "code",
            "execution_count": null,
            "source": [],
            "outputs": [],
            "metadata": {}
        }
    ],
    "metadata": {
        "orig_nbformat": 4,
        "language_info": {
            "name": "python",
            "version": "3.8.1",
            "mimetype": "text/x-python",
            "codemirror_mode": {
                "name": "ipython",
                "version": 3
            },
            "pygments_lexer": "ipython3",
            "nbconvert_exporter": "python",
            "file_extension": ".py"
        },
        "kernelspec": {
            "name": "python3",
            "display_name": "Python 3.8.1 64-bit"
        },
        "interpreter": {
            "hash": "2dc8ddb28d496379d707e9e93ed511d713ad5e3a7eecf718e662549bc379cb9d"
        }
    },
    "nbformat": 4,
    "nbformat_minor": 2
}